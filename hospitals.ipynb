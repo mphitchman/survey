{
 "cells": [
  {
   "cell_type": "markdown",
   "id": "85c722fb-fe94-4070-8e6c-758b37c013cb",
   "metadata": {},
   "source": [
    "# Hospital Births"
   ]
  },
  {
   "cell_type": "markdown",
   "id": "1e79b821-535b-422c-bb81-fc0d1c4c2724",
   "metadata": {},
   "source": [
    "A certain town is served by two hospitals. In the larger hospital about 45 babies are born each day, and in the smaller hospital 15 babies are born each day. \n",
    "\n",
    "Although the overall proportion of boys is about 50 percent, the actual proportion at either hospital may be more or less than 50 percent on any day. \n",
    "\n",
    "At the end of a year, which hospital will have the greater number of days on which more than 60 percent of the babies born were boys?\n",
    "\n",
    "1. the large hospital \n",
    "\n",
    "2. the small hospital\n",
    "\n",
    "3. neither—the number of days will be about the same.\n"
   ]
  },
  {
   "cell_type": "code",
   "execution_count": null,
   "id": "df533a57-f04f-478a-ac2f-5a8c2733b26e",
   "metadata": {},
   "outputs": [],
   "source": [
    "import numpy as np"
   ]
  },
  {
   "cell_type": "code",
   "execution_count": null,
   "id": "6a44993b-017c-4767-878e-af89348d6850",
   "metadata": {},
   "outputs": [],
   "source": [
    "def boy_births(n, p_b=.5,disp=False):\n",
    "    ''' \n",
    "    returns the proportion of n births that are boys, given the probability of any one birth being a boy is p_b\n",
    "    '''\n",
    "    births = np.random.choice(['boy','girl'], size=n, replace=True, p = [p_b,1-p_b])\n",
    "    if disp==True:\n",
    "        print(births)\n",
    "    boys = sum(i=='boy' for i in births)\n",
    "    return (boys/n)"
   ]
  },
  {
   "cell_type": "code",
   "execution_count": null,
   "id": "0df69253-2ed0-4670-be90-21edaa86b5ae",
   "metadata": {},
   "outputs": [],
   "source": [
    "boy_births(20,disp=True)"
   ]
  },
  {
   "cell_type": "code",
   "execution_count": null,
   "id": "3ba0d4cb-5dcd-4c08-b098-24bbeaac3e17",
   "metadata": {},
   "outputs": [],
   "source": [
    "# make two lists to store daily proportion of boy births\n",
    "big_hosp = []\n",
    "small_hosp = []\n",
    "# simulate 365 days where big hosp has 45 births/day, and the little hosp has 15 births/day\n",
    "# we choose not to display the births each day at each hospital\n",
    "days = 365\n",
    "for i in range(days):\n",
    "    big_hosp.append(boy_births(45))\n",
    "    small_hosp.append(boy_births(15))\n",
    "    "
   ]
  },
  {
   "cell_type": "code",
   "execution_count": null,
   "id": "ecde06d3-68d2-4424-a50b-42564825bbe6",
   "metadata": {},
   "outputs": [],
   "source": [
    "import seaborn as sns"
   ]
  },
  {
   "cell_type": "code",
   "execution_count": null,
   "id": "7290d81a-fefe-47e6-87b1-710cabcafd37",
   "metadata": {},
   "outputs": [],
   "source": [
    "sns.histplot(x = big_hosp,bins=12)"
   ]
  },
  {
   "cell_type": "code",
   "execution_count": null,
   "id": "a1332b0e-6e21-4d3b-a394-54cf63463be8",
   "metadata": {},
   "outputs": [],
   "source": [
    "sum(d > .6 for d in big_hosp)"
   ]
  },
  {
   "cell_type": "code",
   "execution_count": null,
   "id": "df9e22ef-488b-4823-b0b5-d38c9a81c6b7",
   "metadata": {},
   "outputs": [],
   "source": [
    "sns.histplot(x = small_hosp)"
   ]
  },
  {
   "cell_type": "code",
   "execution_count": null,
   "id": "252f5bed-efc2-4452-88a5-fefd52b66546",
   "metadata": {},
   "outputs": [],
   "source": [
    "sum(d > .6 for d in small_hosp)"
   ]
  },
  {
   "cell_type": "code",
   "execution_count": null,
   "id": "b58c9297-a46a-4937-859f-cad89b4c9715",
   "metadata": {},
   "outputs": [],
   "source": [
    "#Which hospital likely has a higher proportion of days in a year with > .6 boys?\n",
    "#Simulate over many, many years, recording the \"winner\" each year\n",
    "winner = []\n",
    "years = 10\n",
    "disp=True\n",
    "for y in range(years):\n",
    "    days = 365\n",
    "    big_hosp = []\n",
    "    small_hosp = []\n",
    "    for d in range(days):\n",
    "        big_hosp.append(boy_births(45))\n",
    "        small_hosp.append(boy_births(15))\n",
    "        big_days = sum(d > .6 for d in big_hosp)\n",
    "        small_days = sum(d > .6 for d in small_hosp)\n",
    "    if disp:\n",
    "        print('Year',y+1)\n",
    "        print('='*7)\n",
    "        print('Days with more than .6 boys at big hospital:',big_days)\n",
    "        print('Days with more than .6 boys at small hospital:',small_days)\n",
    "        print('-'*50)\n",
    "    if big_days > small_days:\n",
    "        result = 'big'\n",
    "    elif big_days < small_days:\n",
    "        result = 'small'\n",
    "    else:\n",
    "        result = 'tie'\n",
    "    winner.append(result) \n",
    "print('In',sum(w=='small' for w in winner),'years out of',years,'the small hospital has more such days than the big hospital.')"
   ]
  },
  {
   "cell_type": "code",
   "execution_count": null,
   "id": "80c47c3d-e8be-47c1-843e-2815e03e0ede",
   "metadata": {},
   "outputs": [],
   "source": []
  }
 ],
 "metadata": {
  "kernelspec": {
   "display_name": "Python 3 (ipykernel)",
   "language": "python",
   "name": "python3"
  },
  "language_info": {
   "codemirror_mode": {
    "name": "ipython",
    "version": 3
   },
   "file_extension": ".py",
   "mimetype": "text/x-python",
   "name": "python",
   "nbconvert_exporter": "python",
   "pygments_lexer": "ipython3",
   "version": "3.11.7"
  }
 },
 "nbformat": 4,
 "nbformat_minor": 5
}
